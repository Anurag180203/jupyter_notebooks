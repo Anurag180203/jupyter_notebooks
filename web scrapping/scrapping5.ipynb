{
 "cells": [
  {
   "cell_type": "code",
   "execution_count": 63,
   "metadata": {},
   "outputs": [],
   "source": [
    "from bs4 import BeautifulSoup\n",
    "from selenium import webdriver\n",
    "import pandas as pd\n",
    "import numpy as np\n",
    "import time\n",
    "from tqdm import tqdm\n",
    "driver = webdriver.Chrome()"
   ]
  },
  {
   "cell_type": "code",
   "execution_count": 64,
   "metadata": {},
   "outputs": [
    {
     "data": {
      "text/html": [
       "<div>\n",
       "<style scoped>\n",
       "    .dataframe tbody tr th:only-of-type {\n",
       "        vertical-align: middle;\n",
       "    }\n",
       "\n",
       "    .dataframe tbody tr th {\n",
       "        vertical-align: top;\n",
       "    }\n",
       "\n",
       "    .dataframe thead th {\n",
       "        text-align: right;\n",
       "    }\n",
       "</style>\n",
       "<table border=\"1\" class=\"dataframe\">\n",
       "  <thead>\n",
       "    <tr style=\"text-align: right;\">\n",
       "      <th></th>\n",
       "      <th>video_link</th>\n",
       "      <th>title</th>\n",
       "      <th>views</th>\n",
       "      <th>date_time</th>\n",
       "      <th>duration</th>\n",
       "      <th>thumbnail</th>\n",
       "    </tr>\n",
       "  </thead>\n",
       "  <tbody>\n",
       "    <tr>\n",
       "      <th>0</th>\n",
       "      <td>https://www.youtube.com/watch?v=CyOh-WDfUvs</td>\n",
       "      <td>Mega Job-a-thon for Working Professionals | 21...</td>\n",
       "      <td>220 views</td>\n",
       "      <td>1 hour ago</td>\n",
       "      <td>0:36</td>\n",
       "      <td>https://i.ytimg.com/vi/CyOh-WDfUvs/hqdefault.jpg</td>\n",
       "    </tr>\n",
       "    <tr>\n",
       "      <th>1</th>\n",
       "      <td>https://www.youtube.com/watch?v=GDeoPHRqb5w</td>\n",
       "      <td>Explore GeeksforGeeks Hiring Solutions | For T...</td>\n",
       "      <td>524 views</td>\n",
       "      <td>6 days ago</td>\n",
       "      <td>2:51</td>\n",
       "      <td>https://i.ytimg.com/vi/GDeoPHRqb5w/hqdefault.jpg</td>\n",
       "    </tr>\n",
       "    <tr>\n",
       "      <th>2</th>\n",
       "      <td>https://www.youtube.com/watch?v=hLqJiIu6LzY</td>\n",
       "      <td>Geek-O-Lympics 2023 | GeeksforGeeks</td>\n",
       "      <td>2K views</td>\n",
       "      <td>13 days ago</td>\n",
       "      <td>0:46</td>\n",
       "      <td>https://i.ytimg.com/vi/hLqJiIu6LzY/hqdefault.jpg</td>\n",
       "    </tr>\n",
       "    <tr>\n",
       "      <th>3</th>\n",
       "      <td>https://www.youtube.com/watch?v=zEPRJMk3p90</td>\n",
       "      <td>Web 3.0 Explained | GeeksforGeeks</td>\n",
       "      <td>1.3K views</td>\n",
       "      <td>2 weeks ago</td>\n",
       "      <td>17:08</td>\n",
       "      <td>https://i.ytimg.com/vi/zEPRJMk3p90/hqdefault.jpg</td>\n",
       "    </tr>\n",
       "    <tr>\n",
       "      <th>4</th>\n",
       "      <td>https://www.youtube.com/watch?v=GSqepfZLKU0</td>\n",
       "      <td>Geek-O-Lympics 2023 | 1st - 31st July | Geeksf...</td>\n",
       "      <td>1.1K views</td>\n",
       "      <td>2 weeks ago</td>\n",
       "      <td>0:10</td>\n",
       "      <td>https://i.ytimg.com/vi/GSqepfZLKU0/hqdefault.jpg</td>\n",
       "    </tr>\n",
       "  </tbody>\n",
       "</table>\n",
       "</div>"
      ],
      "text/plain": [
       "                                    video_link  \\\n",
       "0  https://www.youtube.com/watch?v=CyOh-WDfUvs   \n",
       "1  https://www.youtube.com/watch?v=GDeoPHRqb5w   \n",
       "2  https://www.youtube.com/watch?v=hLqJiIu6LzY   \n",
       "3  https://www.youtube.com/watch?v=zEPRJMk3p90   \n",
       "4  https://www.youtube.com/watch?v=GSqepfZLKU0   \n",
       "\n",
       "                                               title       views    date_time  \\\n",
       "0  Mega Job-a-thon for Working Professionals | 21...   220 views   1 hour ago   \n",
       "1  Explore GeeksforGeeks Hiring Solutions | For T...   524 views   6 days ago   \n",
       "2                Geek-O-Lympics 2023 | GeeksforGeeks    2K views  13 days ago   \n",
       "3                  Web 3.0 Explained | GeeksforGeeks  1.3K views  2 weeks ago   \n",
       "4  Geek-O-Lympics 2023 | 1st - 31st July | Geeksf...  1.1K views  2 weeks ago   \n",
       "\n",
       "  duration                                         thumbnail  \n",
       "0     0:36  https://i.ytimg.com/vi/CyOh-WDfUvs/hqdefault.jpg  \n",
       "1     2:51  https://i.ytimg.com/vi/GDeoPHRqb5w/hqdefault.jpg  \n",
       "2     0:46  https://i.ytimg.com/vi/hLqJiIu6LzY/hqdefault.jpg  \n",
       "3    17:08  https://i.ytimg.com/vi/zEPRJMk3p90/hqdefault.jpg  \n",
       "4     0:10  https://i.ytimg.com/vi/GSqepfZLKU0/hqdefault.jpg  "
      ]
     },
     "execution_count": 64,
     "metadata": {},
     "output_type": "execute_result"
    }
   ],
   "source": [
    "df = pd.read_csv('gfgYoutube.csv')\n",
    "# df['video_link'] = 'https://' + df['video_link']\n",
    "# df.to_csv('gfgYoutube.csv', index=False) \n",
    "df.head()"
   ]
  },
  {
   "cell_type": "code",
   "execution_count": 65,
   "metadata": {},
   "outputs": [
    {
     "name": "stderr",
     "output_type": "stream",
     "text": [
      "  0%|          | 0/1080 [00:13<?, ?it/s]"
     ]
    },
    {
     "name": "stdout",
     "output_type": "stream",
     "text": [
      "\n",
      "\n",
      "\n",
      "\n",
      "529 views 20 hours ago #GeeksforGeeks #Learntocode #GFG\n",
      "\n",
      "\n",
      "\n",
      "\n",
      "\n",
      "\n",
      "\n",
      "\n",
      "\n",
      "\n",
      "\n",
      "\n",
      "\n",
      "\n",
      "Show less\n",
      "\n",
      "Register here: https://practice.geeksforgeeks.org/co...\n",
      "\n",
      "Unleash your potential in the ultimate hiring challenge, choose the job Descriptions that …Show moreShow more\n",
      "\n",
      "\n",
      "\n",
      "\n",
      "Show less\n",
      "\n",
      "\n",
      "  529 views • Jul 13, 2023 • #GeeksforGeeks #Learntocode #GFG\n",
      "\n",
      "\n",
      "\n",
      "\n"
     ]
    },
    {
     "name": "stderr",
     "output_type": "stream",
     "text": [
      "\n"
     ]
    }
   ],
   "source": [
    "likes = []\n",
    "descriptions = []\n",
    "driver.get('https://www.youtube.com')\n",
    "time.sleep(5)\n",
    "for link in tqdm(df['video_link']):\n",
    "    driver.get(link)\n",
    "    time.sleep(5)\n",
    "    soup = BeautifulSoup(driver.page_source, 'html.parser')\n",
    "    try:\n",
    "        like = soup.find_all('span', class_='yt-core-attributed-string yt-core-attributed-string--white-space-no-wrap')[6].text\n",
    "    except:\n",
    "        like = np.nan\n",
    "    try:\n",
    "        description = soup.find('div', id ='description').text\n",
    "    except:\n",
    "        description = np.nan\n",
    "    likes.append(like)\n",
    "    descriptions.append(description)\n",
    "    # later we can add these 2 fields to our dataframe\n",
    "    break\n"
   ]
  }
 ],
 "metadata": {
  "kernelspec": {
   "display_name": "Python 3",
   "language": "python",
   "name": "python3"
  },
  "language_info": {
   "codemirror_mode": {
    "name": "ipython",
    "version": 3
   },
   "file_extension": ".py",
   "mimetype": "text/x-python",
   "name": "python",
   "nbconvert_exporter": "python",
   "pygments_lexer": "ipython3",
   "version": "3.10.0"
  },
  "orig_nbformat": 4
 },
 "nbformat": 4,
 "nbformat_minor": 2
}
