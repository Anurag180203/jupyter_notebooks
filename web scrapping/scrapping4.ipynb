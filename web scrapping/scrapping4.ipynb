{
 "cells": [
  {
   "cell_type": "code",
   "execution_count": 78,
   "metadata": {},
   "outputs": [],
   "source": [
    "import requests\n",
    "from bs4 import BeautifulSoup\n",
    "import pandas as pd\n",
    "import numpy as np\n",
    "from selenium import webdriver\n",
    "from chromedriver_binary import chromedriver_filename\n",
    "link = \"https://www.youtube.com/c/GeeksforGeeksVideos/videos\"\n",
    "# page = requests.get(link)\n",
    "# soup = BeautifulSoup(page.content, 'html.parser')\n",
    "# print(soup.find_all('a')[0]) # this does not work. Therefore, web driver needs to be used to scrap data through a web browser. eg of web driver is selenium"
   ]
  },
  {
   "cell_type": "code",
   "execution_count": 65,
   "metadata": {},
   "outputs": [
    {
     "data": {
      "text/plain": [
       "'C:\\\\Users\\\\ANURAG\\\\AppData\\\\Roaming\\\\Python\\\\Python310\\\\site-packages\\\\chromedriver_binary\\\\chromedriver.exe'"
      ]
     },
     "execution_count": 65,
     "metadata": {},
     "output_type": "execute_result"
    }
   ],
   "source": [
    "chromedriver_filename"
   ]
  },
  {
   "cell_type": "code",
   "execution_count": 66,
   "metadata": {},
   "outputs": [],
   "source": [
    "driver = webdriver.Chrome() # path is optional, if it is not given, it will search for the path in the system\n",
    "driver.get(link) # this will open the link in the browser"
   ]
  },
  {
   "cell_type": "code",
   "execution_count": 72,
   "metadata": {},
   "outputs": [],
   "source": [
    "soup = BeautifulSoup(driver.page_source, 'html.parser') # this line will load"
   ]
  },
  {
   "cell_type": "code",
   "execution_count": 79,
   "metadata": {},
   "outputs": [],
   "source": [
    "sp = soup.find('div', id = 'contents')\n",
    "data = []\n",
    "for video in sp.find_all('ytd-rich-grid-media'):\n",
    "    video_link       = 'www.youtube.com' + video.find('a')['href'] # this will give the link of the first video\n",
    "    title      = video.find(id = 'video-title').text # this will give the title of the first video\n",
    "    try:\n",
    "        views      = video.find_all('span',class_ = 'inline-metadata-item style-scope ytd-video-meta-block')[0].text\n",
    "    except:\n",
    "        views = np.nan\n",
    "    try:    \n",
    "        date_time  = video.find_all('span',class_ = 'inline-metadata-item style-scope ytd-video-meta-block')[1].text\n",
    "    except:\n",
    "        date_time = np.nan\n",
    "    try:\n",
    "        duration   = video.find('span', id = 'text').text.strip()\n",
    "    except:\n",
    "        duration = np.nan\n",
    "    try:\n",
    "        thumbnail  = video.find('a', id = 'thumbnail').find('yt-image').find('img').get('src').split('?')[0]\n",
    "    except:\n",
    "        thumbnail = np.nan\n",
    "    data.append([video_link, title, views, date_time, duration, thumbnail])"
   ]
  },
  {
   "cell_type": "code",
   "execution_count": 80,
   "metadata": {},
   "outputs": [],
   "source": [
    "df = pd.DataFrame(data, columns = ['video_link', 'title', 'views', 'date_time', 'duration', 'thumbnail'])\n",
    "df.to_csv('gfgYoutube.csv', index = False)"
   ]
  },
  {
   "cell_type": "code",
   "execution_count": 83,
   "metadata": {},
   "outputs": [
    {
     "data": {
      "text/plain": [
       "video_link     0\n",
       "title          0\n",
       "views          0\n",
       "date_time      0\n",
       "duration       0\n",
       "thumbnail     33\n",
       "dtype: int64"
      ]
     },
     "execution_count": 83,
     "metadata": {},
     "output_type": "execute_result"
    }
   ],
   "source": [
    "df.isnull().sum()"
   ]
  },
  {
   "cell_type": "code",
   "execution_count": 84,
   "metadata": {},
   "outputs": [
    {
     "data": {
      "text/html": [
       "<div>\n",
       "<style scoped>\n",
       "    .dataframe tbody tr th:only-of-type {\n",
       "        vertical-align: middle;\n",
       "    }\n",
       "\n",
       "    .dataframe tbody tr th {\n",
       "        vertical-align: top;\n",
       "    }\n",
       "\n",
       "    .dataframe thead th {\n",
       "        text-align: right;\n",
       "    }\n",
       "</style>\n",
       "<table border=\"1\" class=\"dataframe\">\n",
       "  <thead>\n",
       "    <tr style=\"text-align: right;\">\n",
       "      <th></th>\n",
       "      <th>video_link</th>\n",
       "      <th>title</th>\n",
       "      <th>views</th>\n",
       "      <th>date_time</th>\n",
       "      <th>duration</th>\n",
       "      <th>thumbnail</th>\n",
       "    </tr>\n",
       "  </thead>\n",
       "  <tbody>\n",
       "    <tr>\n",
       "      <th>0</th>\n",
       "      <td>www.youtube.com/watch?v=CyOh-WDfUvs</td>\n",
       "      <td>Mega Job-a-thon for Working Professionals | 21...</td>\n",
       "      <td>220 views</td>\n",
       "      <td>1 hour ago</td>\n",
       "      <td>0:36</td>\n",
       "      <td>https://i.ytimg.com/vi/CyOh-WDfUvs/hqdefault.jpg</td>\n",
       "    </tr>\n",
       "    <tr>\n",
       "      <th>1</th>\n",
       "      <td>www.youtube.com/watch?v=GDeoPHRqb5w</td>\n",
       "      <td>Explore GeeksforGeeks Hiring Solutions | For T...</td>\n",
       "      <td>524 views</td>\n",
       "      <td>6 days ago</td>\n",
       "      <td>2:51</td>\n",
       "      <td>https://i.ytimg.com/vi/GDeoPHRqb5w/hqdefault.jpg</td>\n",
       "    </tr>\n",
       "    <tr>\n",
       "      <th>2</th>\n",
       "      <td>www.youtube.com/watch?v=hLqJiIu6LzY</td>\n",
       "      <td>Geek-O-Lympics 2023 | GeeksforGeeks</td>\n",
       "      <td>2K views</td>\n",
       "      <td>13 days ago</td>\n",
       "      <td>0:46</td>\n",
       "      <td>https://i.ytimg.com/vi/hLqJiIu6LzY/hqdefault.jpg</td>\n",
       "    </tr>\n",
       "    <tr>\n",
       "      <th>3</th>\n",
       "      <td>www.youtube.com/watch?v=zEPRJMk3p90</td>\n",
       "      <td>Web 3.0 Explained | GeeksforGeeks</td>\n",
       "      <td>1.3K views</td>\n",
       "      <td>2 weeks ago</td>\n",
       "      <td>17:08</td>\n",
       "      <td>https://i.ytimg.com/vi/zEPRJMk3p90/hqdefault.jpg</td>\n",
       "    </tr>\n",
       "    <tr>\n",
       "      <th>4</th>\n",
       "      <td>www.youtube.com/watch?v=GSqepfZLKU0</td>\n",
       "      <td>Geek-O-Lympics 2023 | 1st - 31st July | Geeksf...</td>\n",
       "      <td>1.1K views</td>\n",
       "      <td>2 weeks ago</td>\n",
       "      <td>0:10</td>\n",
       "      <td>https://i.ytimg.com/vi/GSqepfZLKU0/hqdefault.jpg</td>\n",
       "    </tr>\n",
       "  </tbody>\n",
       "</table>\n",
       "</div>"
      ],
      "text/plain": [
       "                            video_link  \\\n",
       "0  www.youtube.com/watch?v=CyOh-WDfUvs   \n",
       "1  www.youtube.com/watch?v=GDeoPHRqb5w   \n",
       "2  www.youtube.com/watch?v=hLqJiIu6LzY   \n",
       "3  www.youtube.com/watch?v=zEPRJMk3p90   \n",
       "4  www.youtube.com/watch?v=GSqepfZLKU0   \n",
       "\n",
       "                                               title       views    date_time  \\\n",
       "0  Mega Job-a-thon for Working Professionals | 21...   220 views   1 hour ago   \n",
       "1  Explore GeeksforGeeks Hiring Solutions | For T...   524 views   6 days ago   \n",
       "2                Geek-O-Lympics 2023 | GeeksforGeeks    2K views  13 days ago   \n",
       "3                  Web 3.0 Explained | GeeksforGeeks  1.3K views  2 weeks ago   \n",
       "4  Geek-O-Lympics 2023 | 1st - 31st July | Geeksf...  1.1K views  2 weeks ago   \n",
       "\n",
       "  duration                                         thumbnail  \n",
       "0     0:36  https://i.ytimg.com/vi/CyOh-WDfUvs/hqdefault.jpg  \n",
       "1     2:51  https://i.ytimg.com/vi/GDeoPHRqb5w/hqdefault.jpg  \n",
       "2     0:46  https://i.ytimg.com/vi/hLqJiIu6LzY/hqdefault.jpg  \n",
       "3    17:08  https://i.ytimg.com/vi/zEPRJMk3p90/hqdefault.jpg  \n",
       "4     0:10  https://i.ytimg.com/vi/GSqepfZLKU0/hqdefault.jpg  "
      ]
     },
     "execution_count": 84,
     "metadata": {},
     "output_type": "execute_result"
    }
   ],
   "source": [
    "df.head()"
   ]
  }
 ],
 "metadata": {
  "kernelspec": {
   "display_name": "Python 3",
   "language": "python",
   "name": "python3"
  },
  "language_info": {
   "codemirror_mode": {
    "name": "ipython",
    "version": 3
   },
   "file_extension": ".py",
   "mimetype": "text/x-python",
   "name": "python",
   "nbconvert_exporter": "python",
   "pygments_lexer": "ipython3",
   "version": "3.10.0"
  },
  "orig_nbformat": 4
 },
 "nbformat": 4,
 "nbformat_minor": 2
}
