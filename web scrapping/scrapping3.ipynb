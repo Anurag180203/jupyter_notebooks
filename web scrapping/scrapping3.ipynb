{
 "cells": [
  {
   "cell_type": "code",
   "execution_count": 62,
   "metadata": {},
   "outputs": [],
   "source": [
    "import requests\n",
    "import pandas as pd\n",
    "from bs4 import BeautifulSoup"
   ]
  },
  {
   "cell_type": "code",
   "execution_count": 64,
   "metadata": {},
   "outputs": [],
   "source": [
    "inp = str(input(\"Enter the topic: \"))\n",
    "# inp = \"mahatma\"\n",
    "url = \"https://www.google.com/search?q=\" + inp.replace(\" \", \"+\") + \"+wikipedia\"\n",
    "res = requests.get(url)\n",
    "soup = BeautifulSoup(res.text, 'html.parser')\n",
    "for sp in soup.find_all('div'):\n",
    "    try:\n",
    "        link = sp.find('a').get('href')[7:].split('&')[0]  \n",
    "        if('en.wikipedia.org' in link):\n",
    "            break\n",
    "    except:\n",
    "        pass\n",
    "# for i in soup.find_all('a', href=True):\n",
    "#     if \"en.wikipedia.org\" in i['href']:\n",
    "#         link = i['href'][7:].split('&')[0]\n",
    "#         break\n",
    "# you may also check for div tags and then check for a tags inside it\n",
    "inp = link.split('/')[-1].replace(\"_\", \" \")\n",
    "res = requests.get(link)\n",
    "soup = BeautifulSoup(res.text, 'html.parser')"
   ]
  },
  {
   "cell_type": "code",
   "execution_count": null,
   "metadata": {},
   "outputs": [],
   "source": [
    "corpus = ''\n",
    "for p in soup.find_all('p'):\n",
    "    corpus += p.text\n",
    "    corpus+= \"\\n\"\n",
    "corpus = corpus.strip()\n",
    "for i in range(500):\n",
    "    corpus = corpus.replace(\"[\"+str(i)+\"]\", \"\")\n",
    "corpus = corpus.replace(\"\\n\\n\", \"\\n\")\n",
    "fd = open(inp+'.txt','w',encoding='utf-8')\n",
    "fd.write(corpus)\n",
    "fd.close()"
   ]
  }
 ],
 "metadata": {
  "kernelspec": {
   "display_name": "Python 3",
   "language": "python",
   "name": "python3"
  },
  "language_info": {
   "codemirror_mode": {
    "name": "ipython",
    "version": 3
   },
   "file_extension": ".py",
   "mimetype": "text/x-python",
   "name": "python",
   "nbconvert_exporter": "python",
   "pygments_lexer": "ipython3",
   "version": "3.10.0"
  },
  "orig_nbformat": 4
 },
 "nbformat": 4,
 "nbformat_minor": 2
}
