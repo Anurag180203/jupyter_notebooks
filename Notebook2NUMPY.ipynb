{
 "cells": [
  {
   "cell_type": "code",
   "execution_count": 2,
   "metadata": {},
   "outputs": [],
   "source": [
    "import numpy as np"
   ]
  },
  {
   "cell_type": "code",
   "execution_count": 3,
   "metadata": {},
   "outputs": [
    {
     "data": {
      "text/plain": [
       "list"
      ]
     },
     "execution_count": 3,
     "metadata": {},
     "output_type": "execute_result"
    }
   ],
   "source": [
    "lst = [1, 2, 3, 4, 5]\n",
    "type(lst)"
   ]
  },
  {
   "cell_type": "code",
   "execution_count": 4,
   "metadata": {},
   "outputs": [
    {
     "name": "stdout",
     "output_type": "stream",
     "text": [
      "2\n",
      "(3, 5)\n",
      "15\n",
      "int32\n",
      "4\n",
      "60\n"
     ]
    }
   ],
   "source": [
    "arr = np.array(lst)\n",
    "type(arr)\n",
    "arr2 = np.array([[1, 2, 3, 4, 5],[6,7,8,9,10],[11,12,13,14,15]])\n",
    "print(arr2.ndim,arr2.shape,arr2.size,arr2.dtype,arr2.itemsize,arr2.nbytes,sep='\\n')"
   ]
  },
  {
   "cell_type": "code",
   "execution_count": 5,
   "metadata": {},
   "outputs": [
    {
     "data": {
      "text/plain": [
       "array([[ 1,  2,  3],\n",
       "       [ 4,  5,  6],\n",
       "       [ 7,  8,  9],\n",
       "       [10, 11, 12],\n",
       "       [13, 14, 15]])"
      ]
     },
     "execution_count": 5,
     "metadata": {},
     "output_type": "execute_result"
    }
   ],
   "source": [
    "arr3 = arr2.reshape(5,3) # or np.reshape(arr2,(5,3))\n",
    "arr3"
   ]
  },
  {
   "cell_type": "code",
   "execution_count": 6,
   "metadata": {},
   "outputs": [
    {
     "name": "stdout",
     "output_type": "stream",
     "text": [
      "[[0. 0. 0. 0. 0.]\n",
      " [0. 0. 0. 0. 0.]\n",
      " [0. 0. 0. 0. 0.]]\n",
      "[[1. 1. 1. 1. 1.]\n",
      " [1. 1. 1. 1. 1.]\n",
      " [1. 1. 1. 1. 1.]]\n"
     ]
    }
   ],
   "source": [
    "arr4,arr5 = np.zeros((3,5)),np.ones((3,5))\n",
    "print(arr4,arr5,sep=\"\\n\")"
   ]
  },
  {
   "cell_type": "code",
   "execution_count": 7,
   "metadata": {},
   "outputs": [
    {
     "name": "stdout",
     "output_type": "stream",
     "text": [
      "[[0.09074171 0.1677236  0.48987322]\n",
      " [0.02883917 0.41738694 0.8746012 ]\n",
      " [0.01314242 0.9041856  0.6965134 ]]\n",
      "-----\n",
      "[0.09074171 0.1677236  0.48987322 0.02883917 0.41738694 0.8746012\n",
      " 0.01314242 0.9041856  0.6965134 ]\n"
     ]
    }
   ],
   "source": [
    "arr5 = np.random.random((3,3))\n",
    "print(arr5,arr5.flatten(),sep=\"\\n-----\\n\")"
   ]
  },
  {
   "cell_type": "code",
   "execution_count": 8,
   "metadata": {},
   "outputs": [
    {
     "data": {
      "text/plain": [
       "array([1, 2, 3, 4, 5, 6, 7, 8, 9])"
      ]
     },
     "execution_count": 8,
     "metadata": {},
     "output_type": "execute_result"
    }
   ],
   "source": [
    "np.arange(1,10,1)"
   ]
  },
  {
   "cell_type": "code",
   "execution_count": 9,
   "metadata": {},
   "outputs": [
    {
     "data": {
      "text/plain": [
       "array([1.        , 1.66666667, 2.33333333, 3.        , 3.66666667,\n",
       "       4.33333333, 5.        , 5.66666667, 6.33333333, 7.        ])"
      ]
     },
     "execution_count": 9,
     "metadata": {},
     "output_type": "execute_result"
    }
   ],
   "source": [
    "np.linspace(1,7,10)"
   ]
  },
  {
   "cell_type": "code",
   "execution_count": 10,
   "metadata": {},
   "outputs": [
    {
     "name": "stdout",
     "output_type": "stream",
     "text": [
      "[ 2  3  4  5  6  7  8  9 10]\n",
      "[ 3  4  5  6  7  8  9 10 11]\n",
      "[1 2 3 4 5 6 7 8 9]\n",
      "[ 4  6  8 10 12 14 16 18 20]\n",
      "[1.  1.5 2.  2.5 3.  3.5 4.  4.5 5. ]\n",
      "[  4   9  16  25  36  49  64  81 100]\n",
      "[2 3 4 0 1 2 3 4 0]\n",
      "2\n",
      "10\n"
     ]
    }
   ],
   "source": [
    "arr6 = np.arange(1,10,1)\n",
    "arr6+=1\n",
    "print(arr6,arr6+1,arr6-1,arr6*2,arr6/2,arr6**2,arr6%5,arr6.min(),arr6.max(),sep=\"\\n\")"
   ]
  },
  {
   "cell_type": "code",
   "execution_count": 11,
   "metadata": {},
   "outputs": [
    {
     "name": "stdout",
     "output_type": "stream",
     "text": [
      "[7 8 9]\n",
      "[3 6 9]\n",
      "[1 2 3]\n",
      "[1 4 7]\n",
      "45\n"
     ]
    }
   ],
   "source": [
    "arr7 = np.array([[1,2,3],[4,5,6],[7,8,9]])\n",
    "print(arr7.max(axis=0),arr7.max(axis=1),arr7.min(axis=0),arr7.min(axis=1),arr7.sum(),sep=\"\\n\")\n",
    "# axis=0 means column wise and axis=1 means row wise"
   ]
  },
  {
   "cell_type": "code",
   "execution_count": 12,
   "metadata": {},
   "outputs": [
    {
     "name": "stdout",
     "output_type": "stream",
     "text": [
      "[[ 9 16 21]\n",
      " [24 25 24]\n",
      " [21 16  9]]\n",
      "[[ 30  24  18]\n",
      " [ 84  69  54]\n",
      " [138 114  90]]\n",
      "[[10 10 10]\n",
      " [10 10 10]\n",
      " [10 10 10]]\n"
     ]
    }
   ],
   "source": [
    "arr1 = np.array([[1,2,3],[4,5,6],[7,8,9]])\n",
    "arr2 = np.arange(9,0,-1).reshape(3,3)\n",
    "print(arr1*arr2,arr1.dot(arr2),arr1+arr2,sep=\"\\n\")"
   ]
  },
  {
   "cell_type": "code",
   "execution_count": 13,
   "metadata": {},
   "outputs": [
    {
     "name": "stdout",
     "output_type": "stream",
     "text": [
      "[[ 40  30]\n",
      " [120  94]]\n",
      "[[43 58 73 88]\n",
      " [31 42 53 64]\n",
      " [19 26 33 40]\n",
      " [ 7 10 13 16]]\n"
     ]
    }
   ],
   "source": [
    "arr3 = np.arange(1,9,1).reshape(2,4)\n",
    "arr4 = np.arange(8,0,-1).reshape(4,2)\n",
    "print(arr3.dot(arr4),arr4.dot(arr3),sep=\"\\n\")"
   ]
  },
  {
   "cell_type": "code",
   "execution_count": 14,
   "metadata": {},
   "outputs": [
    {
     "name": "stdout",
     "output_type": "stream",
     "text": [
      "[[1 2 3]\n",
      " [4 5 6]\n",
      " [7 8 9]]\n",
      "\n",
      "[[1 2 3]]\n",
      "\n",
      "[[1]\n",
      " [4]\n",
      " [7]]\n",
      "\n",
      "[[1 2 3]]\n"
     ]
    }
   ],
   "source": [
    "arr5 = np.array([[1,2,3],[4,5,6],[7,8,9]])\n",
    "print(arr5[:,:],arr5[:1,:3],arr5[:,:1],arr5[:][:1],sep=\"\\n\\n\")\n",
    "# arr5[:1,:3] means 1st row and 3 columns\n",
    "# arr5[:,:1] means all rows and 1st column\n",
    "# arr5[:][:1] means all rows and 1st row"
   ]
  },
  {
   "cell_type": "code",
   "execution_count": 20,
   "metadata": {},
   "outputs": [
    {
     "name": "stdout",
     "output_type": "stream",
     "text": [
      "[[3 4 6 7 8]\n",
      " [2 6 7 8 9]\n",
      " [1 2 3 4 5]]\n",
      "\n",
      "[[5 2 3 2 1]\n",
      " [7 3 8 6 4]\n",
      " [7 4 9 8 6]]\n",
      "\n",
      "[[3 4 6 7 8]\n",
      " [2 6 7 8 9]\n",
      " [1 2 3 4 5]]\n"
     ]
    }
   ],
   "source": [
    "arr = np.array([[7,3,8,6,4],[7,2,9,8,6],[5,4,3,2,1]])\n",
    "print(np.sort(arr,axis=1,kind='mergesort'),np.sort(arr,axis=0,kind='mergesort'),np.sort(arr,kind='mergesort'),sep=\"\\n\\n\")"
   ]
  },
  {
   "cell_type": "code",
   "execution_count": 24,
   "metadata": {},
   "outputs": [
    {
     "name": "stdout",
     "output_type": "stream",
     "text": [
      "[[1 2 3 4]\n",
      " [5 6 7 8]\n",
      " [8 7 6 5]\n",
      " [4 3 2 1]]\n",
      "\n",
      "[[1 2 3 4 8 7 6 5]\n",
      " [5 6 7 8 4 3 2 1]]\n",
      "\n",
      "[[1 2 3 4]\n",
      " [5 6 7 8]\n",
      " [8 7 6 5]\n",
      " [4 3 2 1]]\n",
      "\n",
      "[[1 2 3 4 8 7 6 5]\n",
      " [5 6 7 8 4 3 2 1]]\n"
     ]
    }
   ],
   "source": [
    "arr1 = np.arange(1,9,1).reshape(2,4)\n",
    "arr2 = np.arange(8,0,-1).reshape(2,4)\n",
    "print(arr3:=np.vstack((arr1,arr2)),np.hstack((arr1,arr2)),np.concatenate((arr1,arr2),axis=0),np.concatenate((arr1,arr2),axis=1),sep=\"\\n\\n\")"
   ]
  },
  {
   "cell_type": "code",
   "execution_count": 30,
   "metadata": {},
   "outputs": [
    {
     "name": "stdout",
     "output_type": "stream",
     "text": [
      "[[1 2 3 4]\n",
      " [5 6 7 8]\n",
      " [8 7 6 5]\n",
      " [4 3 2 1]]\n",
      "\n",
      "[array([[1, 2],\n",
      "       [5, 6],\n",
      "       [8, 7],\n",
      "       [4, 3]]), array([[3, 4],\n",
      "       [7, 8],\n",
      "       [6, 5],\n",
      "       [2, 1]])]\n",
      "\n",
      "[array([[1, 2, 3, 4],\n",
      "       [5, 6, 7, 8]]), array([[8, 7, 6, 5],\n",
      "       [4, 3, 2, 1]])]\n"
     ]
    }
   ],
   "source": [
    "print(arr3,np.hsplit(arr3,2),np.vsplit(arr3,2),sep=\"\\n\\n\")"
   ]
  },
  {
   "cell_type": "code",
   "execution_count": 38,
   "metadata": {},
   "outputs": [
    {
     "data": {
      "text/plain": [
       "5"
      ]
     },
     "execution_count": 38,
     "metadata": {},
     "output_type": "execute_result"
    }
   ],
   "source": [
    "lst = [x for x in range(1,11)]\n",
    "len([j for j in lst if j>5])"
   ]
  },
  {
   "cell_type": "code",
   "execution_count": 42,
   "metadata": {},
   "outputs": [
    {
     "name": "stdout",
     "output_type": "stream",
     "text": [
      "5\n",
      "[ 6  7  8  9 10]\n"
     ]
    }
   ],
   "source": [
    "lst  = np.arange(1,11,1)\n",
    "print(len(lst[lst > 5]),lst[lst > 5],sep=\"\\n\")"
   ]
  },
  {
   "cell_type": "code",
   "execution_count": 43,
   "metadata": {},
   "outputs": [
    {
     "name": "stdout",
     "output_type": "stream",
     "text": [
      "3\n",
      "[3 6 9]\n"
     ]
    }
   ],
   "source": [
    "print(len(lst[lst%3==0]),lst[lst%3==0],sep=\"\\n\")"
   ]
  },
  {
   "cell_type": "code",
   "execution_count": 1,
   "metadata": {},
   "outputs": [
    {
     "name": "stdout",
     "output_type": "stream",
     "text": [
      "[[1 0]\n",
      " [0 1]]\n"
     ]
    }
   ],
   "source": [
    "import numpy as np\n",
    "\n",
    "# An array with 2 rows and integer data type\n",
    "myarray = np.eye(2, dtype=int)\n",
    "\n",
    "print(myarray)"
   ]
  }
 ],
 "metadata": {
  "kernelspec": {
   "display_name": "Python 3",
   "language": "python",
   "name": "python3"
  },
  "language_info": {
   "codemirror_mode": {
    "name": "ipython",
    "version": 3
   },
   "file_extension": ".py",
   "mimetype": "text/x-python",
   "name": "python",
   "nbconvert_exporter": "python",
   "pygments_lexer": "ipython3",
   "version": "3.10.0"
  },
  "orig_nbformat": 4
 },
 "nbformat": 4,
 "nbformat_minor": 2
}
